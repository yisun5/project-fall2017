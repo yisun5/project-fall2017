{
 "cells": [
  {
   "cell_type": "markdown",
   "metadata": {},
   "source": [
    "# IS 590 (Data Visualization)\n",
    "# Group_Name: Oli-zza\n",
    "\n",
    "## Group_Member:\n",
    "\n",
    "Chunzi Pan; Kaiyang Hu; Keith Hollenkamp; Yi Sun;"
   ]
  },
  {
   "cell_type": "markdown",
   "metadata": {},
   "source": [
    "### Read in data"
   ]
  },
  {
   "cell_type": "markdown",
   "metadata": {},
   "source": [
    "This part is to read in data and install packages for part 1"
   ]
  },
  {
   "cell_type": "code",
   "execution_count": 1,
   "metadata": {
    "collapsed": true
   },
   "outputs": [],
   "source": [
    "%matplotlib inline"
   ]
  },
  {
   "cell_type": "code",
   "execution_count": 2,
   "metadata": {
    "collapsed": true
   },
   "outputs": [],
   "source": [
    "import matplotlib.cm as cm\n",
    "from matplotlib.colors import LogNorm, PowerNorm\n",
    "import pandas as pd\n",
    "import matplotlib.pyplot as plt\n",
    "import seaborn as sns\n",
    "import numpy as np\n",
    "import ipywidgets\n",
    "import cartopy\n",
    "import csv\n",
    "import us\n",
    "from IPython.display import Audio\n",
    "from mpl_toolkits.axes_grid1 import make_axes_locatable\n",
    "from haversine import haversine\n",
    "import dateutil.parser as parser\n",
    "\n",
    "states = cartopy.io.shapereader.natural_earth(resolution = '110m', category = 'cultural', name = 'admin_1_states_provinces_lakes_shp')\n",
    "reader = cartopy.io.shapereader.Reader(states)\n",
    "all_states = list(reader.records())\n",
    "geometries = [state.geometry for state in all_states]\n",
    "array_vals=pd.read_csv(\"/srv/nbgrader/data/transportable_array/data_tohoku_norm_transpose.csv\", header=None)"
   ]
  },
  {
   "cell_type": "code",
   "execution_count": 3,
   "metadata": {
    "collapsed": true
   },
   "outputs": [],
   "source": [
    "locations=pd.read_csv(\"/srv/nbgrader/data/transportable_array/location.txt\",\n",
    "                      delimiter=\"\\t\", names=[\"longitude\",\"latitude\",\"a\",\"b\"])\n",
    "del locations[\"a\"], locations[\"b\"] # delete the final two columns"
   ]
  },
  {
   "cell_type": "markdown",
   "metadata": {},
   "source": [
    "### View data"
   ]
  },
  {
   "cell_type": "code",
   "execution_count": 4,
   "metadata": {},
   "outputs": [
    {
     "data": {
      "text/html": [
       "<div>\n",
       "<style scoped>\n",
       "    .dataframe tbody tr th:only-of-type {\n",
       "        vertical-align: middle;\n",
       "    }\n",
       "\n",
       "    .dataframe tbody tr th {\n",
       "        vertical-align: top;\n",
       "    }\n",
       "\n",
       "    .dataframe thead th {\n",
       "        text-align: right;\n",
       "    }\n",
       "</style>\n",
       "<table border=\"1\" class=\"dataframe\">\n",
       "  <thead>\n",
       "    <tr style=\"text-align: right;\">\n",
       "      <th></th>\n",
       "      <th>0</th>\n",
       "      <th>1</th>\n",
       "      <th>2</th>\n",
       "      <th>3</th>\n",
       "      <th>4</th>\n",
       "      <th>5</th>\n",
       "      <th>6</th>\n",
       "      <th>7</th>\n",
       "      <th>8</th>\n",
       "      <th>9</th>\n",
       "      <th>...</th>\n",
       "      <th>428</th>\n",
       "      <th>429</th>\n",
       "      <th>430</th>\n",
       "      <th>431</th>\n",
       "      <th>432</th>\n",
       "      <th>433</th>\n",
       "      <th>434</th>\n",
       "      <th>435</th>\n",
       "      <th>436</th>\n",
       "      <th>437</th>\n",
       "    </tr>\n",
       "  </thead>\n",
       "  <tbody>\n",
       "    <tr>\n",
       "      <th>0</th>\n",
       "      <td>-0.000255</td>\n",
       "      <td>-0.000068</td>\n",
       "      <td>0.000406</td>\n",
       "      <td>-0.000275</td>\n",
       "      <td>0.000070</td>\n",
       "      <td>0.000041</td>\n",
       "      <td>-0.000070</td>\n",
       "      <td>-0.000040</td>\n",
       "      <td>0.000152</td>\n",
       "      <td>0.000039</td>\n",
       "      <td>...</td>\n",
       "      <td>-0.000156</td>\n",
       "      <td>0.000025</td>\n",
       "      <td>0.000064</td>\n",
       "      <td>0.000047</td>\n",
       "      <td>0.000030</td>\n",
       "      <td>0.000080</td>\n",
       "      <td>0.000051</td>\n",
       "      <td>0.000156</td>\n",
       "      <td>0.000282</td>\n",
       "      <td>-0.000024</td>\n",
       "    </tr>\n",
       "    <tr>\n",
       "      <th>1</th>\n",
       "      <td>-0.000238</td>\n",
       "      <td>-0.000085</td>\n",
       "      <td>0.000411</td>\n",
       "      <td>-0.000293</td>\n",
       "      <td>0.000085</td>\n",
       "      <td>0.000058</td>\n",
       "      <td>-0.000027</td>\n",
       "      <td>-0.000042</td>\n",
       "      <td>0.000141</td>\n",
       "      <td>0.000151</td>\n",
       "      <td>...</td>\n",
       "      <td>-0.000118</td>\n",
       "      <td>0.000127</td>\n",
       "      <td>0.000029</td>\n",
       "      <td>0.000056</td>\n",
       "      <td>0.000093</td>\n",
       "      <td>0.000016</td>\n",
       "      <td>0.000016</td>\n",
       "      <td>0.000056</td>\n",
       "      <td>0.000280</td>\n",
       "      <td>-0.000036</td>\n",
       "    </tr>\n",
       "    <tr>\n",
       "      <th>2</th>\n",
       "      <td>-0.000220</td>\n",
       "      <td>-0.000102</td>\n",
       "      <td>0.000413</td>\n",
       "      <td>-0.000308</td>\n",
       "      <td>0.000099</td>\n",
       "      <td>0.000073</td>\n",
       "      <td>0.000015</td>\n",
       "      <td>-0.000042</td>\n",
       "      <td>0.000129</td>\n",
       "      <td>0.000259</td>\n",
       "      <td>...</td>\n",
       "      <td>-0.000080</td>\n",
       "      <td>0.000225</td>\n",
       "      <td>-0.000005</td>\n",
       "      <td>0.000065</td>\n",
       "      <td>0.000153</td>\n",
       "      <td>-0.000046</td>\n",
       "      <td>-0.000019</td>\n",
       "      <td>-0.000042</td>\n",
       "      <td>0.000275</td>\n",
       "      <td>-0.000049</td>\n",
       "    </tr>\n",
       "    <tr>\n",
       "      <th>3</th>\n",
       "      <td>-0.000203</td>\n",
       "      <td>-0.000117</td>\n",
       "      <td>0.000411</td>\n",
       "      <td>-0.000321</td>\n",
       "      <td>0.000111</td>\n",
       "      <td>0.000087</td>\n",
       "      <td>0.000055</td>\n",
       "      <td>-0.000042</td>\n",
       "      <td>0.000116</td>\n",
       "      <td>0.000360</td>\n",
       "      <td>...</td>\n",
       "      <td>-0.000043</td>\n",
       "      <td>0.000316</td>\n",
       "      <td>-0.000037</td>\n",
       "      <td>0.000073</td>\n",
       "      <td>0.000208</td>\n",
       "      <td>-0.000106</td>\n",
       "      <td>-0.000052</td>\n",
       "      <td>-0.000135</td>\n",
       "      <td>0.000269</td>\n",
       "      <td>-0.000060</td>\n",
       "    </tr>\n",
       "    <tr>\n",
       "      <th>4</th>\n",
       "      <td>-0.000186</td>\n",
       "      <td>-0.000130</td>\n",
       "      <td>0.000406</td>\n",
       "      <td>-0.000330</td>\n",
       "      <td>0.000122</td>\n",
       "      <td>0.000099</td>\n",
       "      <td>0.000092</td>\n",
       "      <td>-0.000041</td>\n",
       "      <td>0.000103</td>\n",
       "      <td>0.000451</td>\n",
       "      <td>...</td>\n",
       "      <td>-0.000009</td>\n",
       "      <td>0.000398</td>\n",
       "      <td>-0.000067</td>\n",
       "      <td>0.000080</td>\n",
       "      <td>0.000257</td>\n",
       "      <td>-0.000160</td>\n",
       "      <td>-0.000083</td>\n",
       "      <td>-0.000220</td>\n",
       "      <td>0.000261</td>\n",
       "      <td>-0.000071</td>\n",
       "    </tr>\n",
       "  </tbody>\n",
       "</table>\n",
       "<p>5 rows × 438 columns</p>\n",
       "</div>"
      ],
      "text/plain": [
       "        0         1         2         3         4         5         6    \\\n",
       "0 -0.000255 -0.000068  0.000406 -0.000275  0.000070  0.000041 -0.000070   \n",
       "1 -0.000238 -0.000085  0.000411 -0.000293  0.000085  0.000058 -0.000027   \n",
       "2 -0.000220 -0.000102  0.000413 -0.000308  0.000099  0.000073  0.000015   \n",
       "3 -0.000203 -0.000117  0.000411 -0.000321  0.000111  0.000087  0.000055   \n",
       "4 -0.000186 -0.000130  0.000406 -0.000330  0.000122  0.000099  0.000092   \n",
       "\n",
       "        7         8         9      ...          428       429       430  \\\n",
       "0 -0.000040  0.000152  0.000039    ...    -0.000156  0.000025  0.000064   \n",
       "1 -0.000042  0.000141  0.000151    ...    -0.000118  0.000127  0.000029   \n",
       "2 -0.000042  0.000129  0.000259    ...    -0.000080  0.000225 -0.000005   \n",
       "3 -0.000042  0.000116  0.000360    ...    -0.000043  0.000316 -0.000037   \n",
       "4 -0.000041  0.000103  0.000451    ...    -0.000009  0.000398 -0.000067   \n",
       "\n",
       "        431       432       433       434       435       436       437  \n",
       "0  0.000047  0.000030  0.000080  0.000051  0.000156  0.000282 -0.000024  \n",
       "1  0.000056  0.000093  0.000016  0.000016  0.000056  0.000280 -0.000036  \n",
       "2  0.000065  0.000153 -0.000046 -0.000019 -0.000042  0.000275 -0.000049  \n",
       "3  0.000073  0.000208 -0.000106 -0.000052 -0.000135  0.000269 -0.000060  \n",
       "4  0.000080  0.000257 -0.000160 -0.000083 -0.000220  0.000261 -0.000071  \n",
       "\n",
       "[5 rows x 438 columns]"
      ]
     },
     "execution_count": 4,
     "metadata": {},
     "output_type": "execute_result"
    }
   ],
   "source": [
    "array_vals.head(5)"
   ]
  },
  {
   "cell_type": "code",
   "execution_count": 5,
   "metadata": {},
   "outputs": [
    {
     "data": {
      "text/html": [
       "<div>\n",
       "<style scoped>\n",
       "    .dataframe tbody tr th:only-of-type {\n",
       "        vertical-align: middle;\n",
       "    }\n",
       "\n",
       "    .dataframe tbody tr th {\n",
       "        vertical-align: top;\n",
       "    }\n",
       "\n",
       "    .dataframe thead th {\n",
       "        text-align: right;\n",
       "    }\n",
       "</style>\n",
       "<table border=\"1\" class=\"dataframe\">\n",
       "  <thead>\n",
       "    <tr style=\"text-align: right;\">\n",
       "      <th></th>\n",
       "      <th>longitude</th>\n",
       "      <th>latitude</th>\n",
       "    </tr>\n",
       "  </thead>\n",
       "  <tbody>\n",
       "    <tr>\n",
       "      <th>0</th>\n",
       "      <td>-98.683</td>\n",
       "      <td>27.065</td>\n",
       "    </tr>\n",
       "    <tr>\n",
       "      <th>1</th>\n",
       "      <td>-98.102</td>\n",
       "      <td>26.938</td>\n",
       "    </tr>\n",
       "    <tr>\n",
       "      <th>2</th>\n",
       "      <td>-98.068</td>\n",
       "      <td>26.463</td>\n",
       "    </tr>\n",
       "    <tr>\n",
       "      <th>3</th>\n",
       "      <td>-117.110</td>\n",
       "      <td>32.889</td>\n",
       "    </tr>\n",
       "    <tr>\n",
       "      <th>4</th>\n",
       "      <td>-107.790</td>\n",
       "      <td>32.532</td>\n",
       "    </tr>\n",
       "  </tbody>\n",
       "</table>\n",
       "</div>"
      ],
      "text/plain": [
       "   longitude  latitude\n",
       "0    -98.683    27.065\n",
       "1    -98.102    26.938\n",
       "2    -98.068    26.463\n",
       "3   -117.110    32.889\n",
       "4   -107.790    32.532"
      ]
     },
     "execution_count": 5,
     "metadata": {},
     "output_type": "execute_result"
    }
   ],
   "source": [
    "locations.head(5)"
   ]
  },
  {
   "cell_type": "markdown",
   "metadata": {},
   "source": [
    "## Part1"
   ]
  },
  {
   "cell_type": "markdown",
   "metadata": {},
   "source": [
    "######  Data for spectrogram"
   ]
  },
  {
   "cell_type": "code",
   "execution_count": null,
   "metadata": {
    "collapsed": true
   },
   "outputs": [],
   "source": [
    "# Prepare data\n",
    "array_vals_sorted=np.zeros((14401,438))"
   ]
  },
  {
   "cell_type": "markdown",
   "metadata": {},
   "source": [
    "Find the latitude and longitude of tohoku location from https://earthquake.usgs.gov/earthquakes/eventpage/official20110311054624120_30#executive"
   ]
  },
  {
   "cell_type": "code",
   "execution_count": null,
   "metadata": {
    "collapsed": true
   },
   "outputs": [],
   "source": [
    "tohoku_loc=(142.373, 38.297)"
   ]
  },
  {
   "cell_type": "code",
   "execution_count": 6,
   "metadata": {
    "collapsed": true
   },
   "outputs": [],
   "source": [
    "distance=[]\n",
    "for i in range(0,437):\n",
    "    x=(locations['longitude'][i],locations['latitude'][i])\n",
    "    distance.append(haversine(tohoku_loc,x, miles=True))\n",
    "# distance\n",
    "# sort the distance #ds_sort=sorted(distance)\n",
    "\n",
    "ds_indicator=np.argsort(distance) # get the sorted distance number\n",
    "for i in range(0,437):\n",
    "    array_vals_sorted[:,i]=array_vals[ds_indicator[i]]\n",
    "\n",
    "matrix_vals = np.asmatrix(array_vals_sorted)5\n",
    "matrix_vals = matrix_vals.transpose()"
   ]
  },
  {
   "cell_type": "markdown",
   "metadata": {},
   "source": [
    "######  Three plots for Part 1"
   ]
  },
  {
   "cell_type": "code",
   "execution_count": 7,
   "metadata": {},
   "outputs": [
    {
     "data": {
      "application/vnd.jupyter.widget-view+json": {
       "model_id": "19cf065417204b7fb1a34ff768e5d343",
       "version_major": 2,
       "version_minor": 0
      },
      "text/html": [
       "<p>Failed to display Jupyter Widget of type <code>interactive</code>.</p>\n",
       "<p>\n",
       "  If you're reading this message in the Jupyter Notebook or JupyterLab Notebook, it may mean\n",
       "  that the widgets JavaScript is still loading. If this message persists, it\n",
       "  likely means that the widgets JavaScript library is either not installed or\n",
       "  not enabled. See the <a href=\"https://ipywidgets.readthedocs.io/en/stable/user_install.html\">Jupyter\n",
       "  Widgets Documentation</a> for setup instructions.\n",
       "</p>\n",
       "<p>\n",
       "  If you're reading this message in another frontend (for example, a static\n",
       "  rendering on GitHub or <a href=\"https://nbviewer.jupyter.org/\">NBViewer</a>),\n",
       "  it may mean that your frontend doesn't currently support widgets.\n",
       "</p>\n"
      ],
      "text/plain": [
       "interactive(children=(IntSlider(value=0, description='stat_id', max=437), IntSlider(value=0, description='time', max=14400), Output()), _dom_classes=('widget-interact',))"
      ]
     },
     "metadata": {},
     "output_type": "display_data"
    }
   ],
   "source": [
    "##Combination \n",
    "@ipywidgets.interact(stat_id = (0,437,1), time = (0, 14400, 1))\n",
    "def make_total(stat_id = 0, time = 0):\n",
    "    \n",
    "    fig = plt.figure(figsize=(10,10))\n",
    "    \n",
    "    # Map\n",
    "    axes_1 = fig.add_subplot(211, projection = cartopy.crs.LambertConformal())\n",
    "    axes_1.set_extent([-125, -66.5, 20, 50], cartopy.crs.Geodetic())\n",
    "    axes_1.add_geometries(geometries, cartopy.crs.PlateCarree(), edgecolors = 'white', facecolor = 'pink', zorder = 0)\n",
    "    mappable = axes_1.scatter(locations['longitude'], locations['latitude'],\n",
    "                              transform = cartopy.crs.Geodetic(), \n",
    "                              c = (array_vals.iloc[time]),\n",
    "                              cmap = \"RdYlBu\")\n",
    "    \n",
    "    axes_1.set_title(\"Stations in the Transportable Array\")\n",
    "    fig.suptitle(\"Measurements of the Tohoku Earthquake\", fontsize = 20)\n",
    "    \n",
    "    plt.colorbar(mappable,fraction=0.03, pad=0.01, label = \"Intensity of Earthquake\")\n",
    "     \n",
    "    # Spectrogram   \n",
    "    axes_2 = plt.subplot(223)\n",
    "    plt.imshow(matrix_vals, aspect='auto',cmap='jet', origin='lower')\n",
    "    plt.xlabel('Time in Seconds')\n",
    "    plt.ylabel('American Station')\n",
    "    \n",
    "    ax21 = plt.axvline(0, color = 'r')\n",
    "    x21, y21 = ax21.get_data()\n",
    "    ax21.set_data(([a+ time for a in x21],y21 ))\n",
    "    \n",
    "    ax22 = plt.axhline(0, color = 'r')\n",
    "    x22, y22 = ax22.get_data()\n",
    "    ax22.set_data((x22,[a+stat_id for a in y22] ))\n",
    "    \n",
    "    # Line plot\n",
    "    axes_3 = plt.subplot(224)\n",
    "    plt.plot(array_vals[stat_id])\n",
    "    plt.xlabel(\"Time in Seconds\")\n",
    "    plt.ylabel(\"Earthquake Intensity\", labelpad = -3)"
   ]
  },
  {
   "cell_type": "markdown",
   "metadata": {},
   "source": [
    "## Part 3"
   ]
  },
  {
   "cell_type": "markdown",
   "metadata": {},
   "source": [
    "###### Make data for part 3"
   ]
  },
  {
   "cell_type": "code",
   "execution_count": null,
   "metadata": {
    "collapsed": true
   },
   "outputs": [],
   "source": [
    "from datetime import datetime\n",
    "import bqplot\n",
    "from bqplot import (\n",
    "   Figure, Map, Mercator, Orthographic, ColorScale, ColorAxis,\n",
    "   AlbersUSA, topo_load, Tooltip\n",
    ")\n",
    "from ipywidgets import ToggleButtons, VBox, HTML, Dropdown,interact\n",
    "from copy import deepcopy"
   ]
  },
  {
   "cell_type": "code",
   "execution_count": 8,
   "metadata": {
    "collapsed": true
   },
   "outputs": [],
   "source": [
    "names = [\"date\", \"city\", \"state\", \"country\", \"shape\", \"duration_seconds\",\n",
    "         \"duration_reported\", \"description\", \"report_date\", \"latitude\",\n",
    "         \"longitude\"]\n",
    "\n",
    "fn = \"/srv/nbgrader/data/ufo-scrubbed-geocoded-time-standardized.csv\""
   ]
  },
  {
   "cell_type": "code",
   "execution_count": 9,
   "metadata": {
    "collapsed": true
   },
   "outputs": [],
   "source": [
    "ufo = pd.read_csv(fn, names = names, parse_dates = [\"date\", \"report_date\"])"
   ]
  },
  {
   "cell_type": "code",
   "execution_count": 10,
   "metadata": {
    "collapsed": true
   },
   "outputs": [],
   "source": [
    "abbr_to_fits = us.states.mapping('abbr', 'fips')\n",
    "ufo[\"fips\"] = ufo['state'].apply(lambda a: int(abbr_to_fits.get(str(a).upper(), -1)))\n",
    "\n",
    "total_time=ufo.groupby('state')['duration_seconds'].sum()\n",
    "total_sightings = ufo.groupby(\"state\")[\"report_date\"].count()"
   ]
  },
  {
   "cell_type": "code",
   "execution_count": 11,
   "metadata": {
    "collapsed": true
   },
   "outputs": [],
   "source": [
    "df = pd.DataFrame([total_time, total_sightings])\n",
    "df.rename({'duration_seconds': 'total_time'}, inplace=True)\n",
    "df.rename({'report_date': 'total_sightings'}, inplace=True)\n",
    "ufo_vals = df.transpose()"
   ]
  },
  {
   "cell_type": "markdown",
   "metadata": {},
   "source": [
    "# Extract year from date"
   ]
  },
  {
   "cell_type": "code",
   "execution_count": 12,
   "metadata": {
    "collapsed": true
   },
   "outputs": [],
   "source": [
    "report_year=[]\n",
    "for i in range(0,80331):\n",
    "    report_year.append(parser.parse(\"{:%B %d, %Y}\".format(ufo[\"date\"][i])).year)"
   ]
  },
  {
   "cell_type": "code",
   "execution_count": 13,
   "metadata": {
    "collapsed": true
   },
   "outputs": [],
   "source": [
    "year=pd.DataFrame(report_year,columns=['year'])\n",
    "ufo.insert(loc=0, column='year', value=year) "
   ]
  },
  {
   "cell_type": "code",
   "execution_count": 38,
   "metadata": {},
   "outputs": [
    {
     "data": {
      "text/html": [
       "<div>\n",
       "<style scoped>\n",
       "    .dataframe tbody tr th:only-of-type {\n",
       "        vertical-align: middle;\n",
       "    }\n",
       "\n",
       "    .dataframe tbody tr th {\n",
       "        vertical-align: top;\n",
       "    }\n",
       "\n",
       "    .dataframe thead th {\n",
       "        text-align: right;\n",
       "    }\n",
       "</style>\n",
       "<table border=\"1\" class=\"dataframe\">\n",
       "  <thead>\n",
       "    <tr style=\"text-align: right;\">\n",
       "      <th></th>\n",
       "      <th>year</th>\n",
       "      <th>date</th>\n",
       "      <th>city</th>\n",
       "      <th>state</th>\n",
       "      <th>country</th>\n",
       "      <th>shape</th>\n",
       "      <th>duration_seconds</th>\n",
       "      <th>duration_reported</th>\n",
       "      <th>description</th>\n",
       "      <th>report_date</th>\n",
       "      <th>latitude</th>\n",
       "      <th>longitude</th>\n",
       "      <th>fips</th>\n",
       "    </tr>\n",
       "  </thead>\n",
       "  <tbody>\n",
       "    <tr>\n",
       "      <th>0</th>\n",
       "      <td>1949.0</td>\n",
       "      <td>1949-10-10 20:30:00</td>\n",
       "      <td>san marcos</td>\n",
       "      <td>tx</td>\n",
       "      <td>us</td>\n",
       "      <td>cylinder</td>\n",
       "      <td>2700.0</td>\n",
       "      <td>45 minutes</td>\n",
       "      <td>This event took place in early fall around 194...</td>\n",
       "      <td>2004-04-27</td>\n",
       "      <td>29.883056</td>\n",
       "      <td>-97.941111</td>\n",
       "      <td>48</td>\n",
       "    </tr>\n",
       "    <tr>\n",
       "      <th>1</th>\n",
       "      <td>1949.0</td>\n",
       "      <td>1949-10-10 21:00:00</td>\n",
       "      <td>lackland afb</td>\n",
       "      <td>tx</td>\n",
       "      <td>NaN</td>\n",
       "      <td>light</td>\n",
       "      <td>7200.0</td>\n",
       "      <td>1-2 hrs</td>\n",
       "      <td>1949 Lackland AFB&amp;#44 TX.  Lights racing acros...</td>\n",
       "      <td>2005-12-16</td>\n",
       "      <td>29.384210</td>\n",
       "      <td>-98.581082</td>\n",
       "      <td>48</td>\n",
       "    </tr>\n",
       "    <tr>\n",
       "      <th>2</th>\n",
       "      <td>1955.0</td>\n",
       "      <td>1955-10-10 17:00:00</td>\n",
       "      <td>chester (uk/england)</td>\n",
       "      <td>NaN</td>\n",
       "      <td>gb</td>\n",
       "      <td>circle</td>\n",
       "      <td>20.0</td>\n",
       "      <td>20 seconds</td>\n",
       "      <td>Green/Orange circular disc over Chester&amp;#44 En...</td>\n",
       "      <td>2008-01-21</td>\n",
       "      <td>53.200000</td>\n",
       "      <td>-2.916667</td>\n",
       "      <td>-1</td>\n",
       "    </tr>\n",
       "    <tr>\n",
       "      <th>3</th>\n",
       "      <td>1956.0</td>\n",
       "      <td>1956-10-10 21:00:00</td>\n",
       "      <td>edna</td>\n",
       "      <td>tx</td>\n",
       "      <td>us</td>\n",
       "      <td>circle</td>\n",
       "      <td>20.0</td>\n",
       "      <td>1/2 hour</td>\n",
       "      <td>My older brother and twin sister were leaving ...</td>\n",
       "      <td>2004-01-17</td>\n",
       "      <td>28.978333</td>\n",
       "      <td>-96.645833</td>\n",
       "      <td>48</td>\n",
       "    </tr>\n",
       "    <tr>\n",
       "      <th>4</th>\n",
       "      <td>1960.0</td>\n",
       "      <td>1960-10-10 20:00:00</td>\n",
       "      <td>kaneohe</td>\n",
       "      <td>hi</td>\n",
       "      <td>us</td>\n",
       "      <td>light</td>\n",
       "      <td>900.0</td>\n",
       "      <td>15 minutes</td>\n",
       "      <td>AS a Marine 1st Lt. flying an FJ4B fighter/att...</td>\n",
       "      <td>2004-01-22</td>\n",
       "      <td>21.418056</td>\n",
       "      <td>-157.803611</td>\n",
       "      <td>15</td>\n",
       "    </tr>\n",
       "  </tbody>\n",
       "</table>\n",
       "</div>"
      ],
      "text/plain": [
       "     year                date                  city state country     shape  \\\n",
       "0  1949.0 1949-10-10 20:30:00            san marcos    tx      us  cylinder   \n",
       "1  1949.0 1949-10-10 21:00:00          lackland afb    tx     NaN     light   \n",
       "2  1955.0 1955-10-10 17:00:00  chester (uk/england)   NaN      gb    circle   \n",
       "3  1956.0 1956-10-10 21:00:00                  edna    tx      us    circle   \n",
       "4  1960.0 1960-10-10 20:00:00               kaneohe    hi      us     light   \n",
       "\n",
       "   duration_seconds duration_reported  \\\n",
       "0            2700.0        45 minutes   \n",
       "1            7200.0           1-2 hrs   \n",
       "2              20.0        20 seconds   \n",
       "3              20.0          1/2 hour   \n",
       "4             900.0        15 minutes   \n",
       "\n",
       "                                         description report_date   latitude  \\\n",
       "0  This event took place in early fall around 194...  2004-04-27  29.883056   \n",
       "1  1949 Lackland AFB&#44 TX.  Lights racing acros...  2005-12-16  29.384210   \n",
       "2  Green/Orange circular disc over Chester&#44 En...  2008-01-21  53.200000   \n",
       "3  My older brother and twin sister were leaving ...  2004-01-17  28.978333   \n",
       "4  AS a Marine 1st Lt. flying an FJ4B fighter/att...  2004-01-22  21.418056   \n",
       "\n",
       "    longitude  fips  \n",
       "0  -97.941111    48  \n",
       "1  -98.581082    48  \n",
       "2   -2.916667    -1  \n",
       "3  -96.645833    48  \n",
       "4 -157.803611    15  "
      ]
     },
     "execution_count": 38,
     "metadata": {},
     "output_type": "execute_result"
    }
   ],
   "source": [
    "ufo.head()"
   ]
  },
  {
   "cell_type": "markdown",
   "metadata": {},
   "source": [
    "## BQplot"
   ]
  },
  {
   "cell_type": "markdown",
   "metadata": {},
   "source": [
    "create pivot table"
   ]
  },
  {
   "cell_type": "code",
   "execution_count": 15,
   "metadata": {
    "collapsed": true
   },
   "outputs": [],
   "source": [
    "pivo1 = pd.pivot_table(ufo,index=[\"state\"], values=[\"fips\"], fill_value=0)\n",
    "pivo2 = pd.pivot_table(ufo,index=[\"state\"], values=[\"duration_seconds\", \"latitude\"], \n",
    "               aggfunc={\"duration_seconds\": np.sum, \"latitude\": (lambda x: len(x))}, \n",
    "               fill_value=0, margins= True)\n",
    "\n",
    "ufo_vals = pd.merge(pivo1, pivo2, left_index=True, right_index=True)\n",
    "ufo_vals.rename(index=str, columns={'duration_seconds': 'total_time', 'latitude': 'total_sightings', 'fips': 'fips'},inplace = True)"
   ]
  },
  {
   "cell_type": "code",
   "execution_count": 16,
   "metadata": {
    "collapsed": true
   },
   "outputs": [],
   "source": [
    "pivo3 = pd.pivot_table(ufo, index=[\"state\"], values=[\"duration_seconds\", \"latitude\"], \n",
    "                       columns = ['year'],\n",
    "                       aggfunc={\"duration_seconds\": np.sum, \"latitude\": (lambda x: len(x))}, \n",
    "                       fill_value=0)\n",
    "pivo3.rename(index=str, columns={'duration_seconds': 'total_time', 'latitude': 'total_sightings'},inplace = True)"
   ]
  },
  {
   "cell_type": "markdown",
   "metadata": {},
   "source": [
    "Make data for normalization\n",
    "We used a cencus data from https://data.world/aaronhoffman/census-gov-state-quickfacts.\n",
    "A separate cleaned csv file (State_Pop_Cleaned.csv) is uploaded with this notebook on GitHub."
   ]
  },
  {
   "cell_type": "code",
   "execution_count": 26,
   "metadata": {},
   "outputs": [],
   "source": [
    "pop = pd.read_csv('State_Pop_Cleaned.csv')"
   ]
  },
  {
   "cell_type": "code",
   "execution_count": 36,
   "metadata": {
    "scrolled": true
   },
   "outputs": [
    {
     "data": {
      "text/html": [
       "<div>\n",
       "<style scoped>\n",
       "    .dataframe tbody tr th:only-of-type {\n",
       "        vertical-align: middle;\n",
       "    }\n",
       "\n",
       "    .dataframe tbody tr th {\n",
       "        vertical-align: top;\n",
       "    }\n",
       "\n",
       "    .dataframe thead th {\n",
       "        text-align: right;\n",
       "    }\n",
       "</style>\n",
       "<table border=\"1\" class=\"dataframe\">\n",
       "  <thead>\n",
       "    <tr style=\"text-align: right;\">\n",
       "      <th></th>\n",
       "      <th>State</th>\n",
       "      <th>Population</th>\n",
       "      <th>FIPS</th>\n",
       "    </tr>\n",
       "  </thead>\n",
       "  <tbody>\n",
       "    <tr>\n",
       "      <th>0</th>\n",
       "      <td>Alaska</td>\n",
       "      <td>741894</td>\n",
       "      <td>\"02\"</td>\n",
       "    </tr>\n",
       "    <tr>\n",
       "      <th>1</th>\n",
       "      <td>Georgia</td>\n",
       "      <td>10310371</td>\n",
       "      <td>\"13\"</td>\n",
       "    </tr>\n",
       "    <tr>\n",
       "      <th>2</th>\n",
       "      <td>Hawaii</td>\n",
       "      <td>1428557</td>\n",
       "      <td>\"15\"</td>\n",
       "    </tr>\n",
       "    <tr>\n",
       "      <th>3</th>\n",
       "      <td>Idaho</td>\n",
       "      <td>1683140</td>\n",
       "      <td>\"16\"</td>\n",
       "    </tr>\n",
       "    <tr>\n",
       "      <th>4</th>\n",
       "      <td>Illinois</td>\n",
       "      <td>12801539</td>\n",
       "      <td>\"17\"</td>\n",
       "    </tr>\n",
       "  </tbody>\n",
       "</table>\n",
       "</div>"
      ],
      "text/plain": [
       "      State  Population  FIPS\n",
       "0    Alaska      741894  \"02\"\n",
       "1   Georgia    10310371  \"13\"\n",
       "2    Hawaii     1428557  \"15\"\n",
       "3     Idaho     1683140  \"16\"\n",
       "4  Illinois    12801539  \"17\""
      ]
     },
     "execution_count": 36,
     "metadata": {},
     "output_type": "execute_result"
    }
   ],
   "source": [
    "pop.head()"
   ]
  },
  {
   "cell_type": "code",
   "execution_count": 19,
   "metadata": {
    "collapsed": true
   },
   "outputs": [
    {
     "name": "stderr",
     "output_type": "stream",
     "text": [
      "/opt/conda/lib/python3.6/site-packages/ipykernel_launcher.py:6: SettingWithCopyWarning: \n",
      "A value is trying to be set on a copy of a slice from a DataFrame\n",
      "\n",
      "See the caveats in the documentation: http://pandas.pydata.org/pandas-docs/stable/indexing.html#indexing-view-versus-copy\n",
      "  \n",
      "/opt/conda/lib/python3.6/site-packages/ipykernel_launcher.py:7: SettingWithCopyWarning: \n",
      "A value is trying to be set on a copy of a slice from a DataFrame\n",
      "\n",
      "See the caveats in the documentation: http://pandas.pydata.org/pandas-docs/stable/indexing.html#indexing-view-versus-copy\n",
      "  import sys\n"
     ]
    }
   ],
   "source": [
    "\n",
    "ufo_pop = ufo_vals[ufo_vals['fips'] != -1]\n",
    "ufo_pop = ufo_pop[ufo_pop.index.values != 'pr'] # Puerto Rico \n",
    "\n",
    "for i in range(len(pop['FIPS'])):\n",
    "    pop['FIPS'][i] = pop['FIPS'][i].lstrip('\"')\n",
    "    pop['FIPS'][i] = pop['FIPS'][i].rstrip('\"')\n",
    "\n",
    "tmp = pop.sort_values(by=['FIPS'])[['Population']]\n",
    "ufo_pop_test = ufo_pop.sort_values(by = ['fips'])\n",
    "tmp.index = range(51)\n",
    "ufo_pop_test.index = range(51)\n",
    "ufo_pop_test.insert(loc = 0, column = 'Population', value = tmp)\n",
    "\n",
    "ufo_pop_test['norm_total_time'] = ufo_pop_test['total_time']/ufo_pop_test['Population']\n",
    "ufo_pop_test['norm_total_sightings'] = ufo_pop_test['total_sightings']/ufo_pop_test['Population']"
   ]
  },
  {
   "cell_type": "code",
   "execution_count": 29,
   "metadata": {},
   "outputs": [
    {
     "data": {
      "text/html": [
       "<div>\n",
       "<style scoped>\n",
       "    .dataframe tbody tr th:only-of-type {\n",
       "        vertical-align: middle;\n",
       "    }\n",
       "\n",
       "    .dataframe tbody tr th {\n",
       "        vertical-align: top;\n",
       "    }\n",
       "\n",
       "    .dataframe thead th {\n",
       "        text-align: right;\n",
       "    }\n",
       "</style>\n",
       "<table border=\"1\" class=\"dataframe\">\n",
       "  <thead>\n",
       "    <tr style=\"text-align: right;\">\n",
       "      <th></th>\n",
       "      <th>Population</th>\n",
       "      <th>fips</th>\n",
       "      <th>total_time</th>\n",
       "      <th>total_sightings</th>\n",
       "      <th>norm_total_time</th>\n",
       "      <th>norm_total_sightings</th>\n",
       "    </tr>\n",
       "  </thead>\n",
       "  <tbody>\n",
       "    <tr>\n",
       "      <th>0</th>\n",
       "      <td>4863300</td>\n",
       "      <td>1</td>\n",
       "      <td>962845.50</td>\n",
       "      <td>691</td>\n",
       "      <td>0.197982</td>\n",
       "      <td>0.000142</td>\n",
       "    </tr>\n",
       "    <tr>\n",
       "      <th>1</th>\n",
       "      <td>741894</td>\n",
       "      <td>2</td>\n",
       "      <td>1498068.00</td>\n",
       "      <td>354</td>\n",
       "      <td>2.019248</td>\n",
       "      <td>0.000477</td>\n",
       "    </tr>\n",
       "    <tr>\n",
       "      <th>2</th>\n",
       "      <td>6931071</td>\n",
       "      <td>4</td>\n",
       "      <td>15990939.10</td>\n",
       "      <td>2689</td>\n",
       "      <td>2.307138</td>\n",
       "      <td>0.000388</td>\n",
       "    </tr>\n",
       "    <tr>\n",
       "      <th>3</th>\n",
       "      <td>2988248</td>\n",
       "      <td>5</td>\n",
       "      <td>67177514.50</td>\n",
       "      <td>666</td>\n",
       "      <td>22.480569</td>\n",
       "      <td>0.000223</td>\n",
       "    </tr>\n",
       "    <tr>\n",
       "      <th>4</th>\n",
       "      <td>39250017</td>\n",
       "      <td>6</td>\n",
       "      <td>37928460.47</td>\n",
       "      <td>9655</td>\n",
       "      <td>0.966330</td>\n",
       "      <td>0.000246</td>\n",
       "    </tr>\n",
       "  </tbody>\n",
       "</table>\n",
       "</div>"
      ],
      "text/plain": [
       "   Population  fips   total_time  total_sightings  norm_total_time  \\\n",
       "0     4863300     1    962845.50              691         0.197982   \n",
       "1      741894     2   1498068.00              354         2.019248   \n",
       "2     6931071     4  15990939.10             2689         2.307138   \n",
       "3     2988248     5  67177514.50              666        22.480569   \n",
       "4    39250017     6  37928460.47             9655         0.966330   \n",
       "\n",
       "   norm_total_sightings  \n",
       "0              0.000142  \n",
       "1              0.000477  \n",
       "2              0.000388  \n",
       "3              0.000223  \n",
       "4              0.000246  "
      ]
     },
     "execution_count": 29,
     "metadata": {},
     "output_type": "execute_result"
    }
   ],
   "source": [
    "ufo_pop_test.head(5)"
   ]
  },
  {
   "cell_type": "code",
   "execution_count": 32,
   "metadata": {
    "collapsed": true
   },
   "outputs": [],
   "source": [
    "ufo_final = deepcopy(ufo_vals)\n",
    "ufo_final.index = ufo_vals['fips']\n",
    "ufo_final2 = deepcopy(ufo_vals)"
   ]
  },
  {
   "cell_type": "code",
   "execution_count": 21,
   "metadata": {
    "collapsed": true
   },
   "outputs": [],
   "source": [
    "ufo_final2 = ufo_final2[ufo_final2['fips']!=-1]\n",
    "ufo_final2 = ufo_final2[ufo_final2.index.values != 'pr']\n",
    "ufo_final2 = ufo_final2.sort_values(by = ['fips'])\n",
    "ufo_final2.index =  range(51)\n",
    "insert_vals = ufo_pop_test.loc[:, ['norm_total_time','norm_total_sightings']]"
   ]
  },
  {
   "cell_type": "code",
   "execution_count": 22,
   "metadata": {
    "collapsed": true
   },
   "outputs": [],
   "source": [
    "ufo_final2 = ufo_final2[['fips']].join(insert_vals)\n",
    "\n",
    "ufo_final2.index = ufo_final2['fips']"
   ]
  },
  {
   "cell_type": "code",
   "execution_count": 23,
   "metadata": {
    "collapsed": true
   },
   "outputs": [],
   "source": [
    "ufo_final = ufo_final[ufo_final['fips']!=-1]\n",
    "ufo_final = ufo_final[ufo_final['fips']!=72]\n",
    "ufo_final = ufo_final.sort_values(by = 'fips')"
   ]
  },
  {
   "cell_type": "code",
   "execution_count": 24,
   "metadata": {
    "collapsed": true
   },
   "outputs": [],
   "source": [
    "ufo_final3 = ufo_final2.join(ufo_final.loc[:,['total_time','total_sightings']])"
   ]
  },
  {
   "cell_type": "code",
   "execution_count": 34,
   "metadata": {},
   "outputs": [
    {
     "data": {
      "text/html": [
       "<div>\n",
       "<style scoped>\n",
       "    .dataframe tbody tr th:only-of-type {\n",
       "        vertical-align: middle;\n",
       "    }\n",
       "\n",
       "    .dataframe tbody tr th {\n",
       "        vertical-align: top;\n",
       "    }\n",
       "\n",
       "    .dataframe thead th {\n",
       "        text-align: right;\n",
       "    }\n",
       "</style>\n",
       "<table border=\"1\" class=\"dataframe\">\n",
       "  <thead>\n",
       "    <tr style=\"text-align: right;\">\n",
       "      <th></th>\n",
       "      <th>fips</th>\n",
       "      <th>norm_total_time</th>\n",
       "      <th>norm_total_sightings</th>\n",
       "      <th>total_time</th>\n",
       "      <th>total_sightings</th>\n",
       "    </tr>\n",
       "    <tr>\n",
       "      <th>fips</th>\n",
       "      <th></th>\n",
       "      <th></th>\n",
       "      <th></th>\n",
       "      <th></th>\n",
       "      <th></th>\n",
       "    </tr>\n",
       "  </thead>\n",
       "  <tbody>\n",
       "    <tr>\n",
       "      <th>1</th>\n",
       "      <td>1</td>\n",
       "      <td>0.197982</td>\n",
       "      <td>0.000142</td>\n",
       "      <td>962845.50</td>\n",
       "      <td>691</td>\n",
       "    </tr>\n",
       "    <tr>\n",
       "      <th>2</th>\n",
       "      <td>2</td>\n",
       "      <td>2.019248</td>\n",
       "      <td>0.000477</td>\n",
       "      <td>1498068.00</td>\n",
       "      <td>354</td>\n",
       "    </tr>\n",
       "    <tr>\n",
       "      <th>4</th>\n",
       "      <td>4</td>\n",
       "      <td>2.307138</td>\n",
       "      <td>0.000388</td>\n",
       "      <td>15990939.10</td>\n",
       "      <td>2689</td>\n",
       "    </tr>\n",
       "    <tr>\n",
       "      <th>5</th>\n",
       "      <td>5</td>\n",
       "      <td>22.480569</td>\n",
       "      <td>0.000223</td>\n",
       "      <td>67177514.50</td>\n",
       "      <td>666</td>\n",
       "    </tr>\n",
       "    <tr>\n",
       "      <th>6</th>\n",
       "      <td>6</td>\n",
       "      <td>0.966330</td>\n",
       "      <td>0.000246</td>\n",
       "      <td>37928460.47</td>\n",
       "      <td>9655</td>\n",
       "    </tr>\n",
       "  </tbody>\n",
       "</table>\n",
       "</div>"
      ],
      "text/plain": [
       "      fips  norm_total_time  norm_total_sightings   total_time  \\\n",
       "fips                                                             \n",
       "1        1         0.197982              0.000142    962845.50   \n",
       "2        2         2.019248              0.000477   1498068.00   \n",
       "4        4         2.307138              0.000388  15990939.10   \n",
       "5        5        22.480569              0.000223  67177514.50   \n",
       "6        6         0.966330              0.000246  37928460.47   \n",
       "\n",
       "      total_sightings  \n",
       "fips                   \n",
       "1                 691  \n",
       "2                 354  \n",
       "4                2689  \n",
       "5                 666  \n",
       "6                9655  "
      ]
     },
     "execution_count": 34,
     "metadata": {},
     "output_type": "execute_result"
    }
   ],
   "source": [
    "ufo_final3.head(5)"
   ]
  },
  {
   "cell_type": "markdown",
   "metadata": {},
   "source": [
    "Here we delete places whose fips == -1 and 72 is because these places are out of US map"
   ]
  },
  {
   "cell_type": "markdown",
   "metadata": {},
   "source": [
    "## BQplot for Part 3"
   ]
  },
  {
   "cell_type": "code",
   "execution_count": 37,
   "metadata": {},
   "outputs": [
    {
     "data": {
      "text/html": [
       "<div>\n",
       "<style scoped>\n",
       "    .dataframe tbody tr th:only-of-type {\n",
       "        vertical-align: middle;\n",
       "    }\n",
       "\n",
       "    .dataframe tbody tr th {\n",
       "        vertical-align: top;\n",
       "    }\n",
       "\n",
       "    .dataframe thead tr th {\n",
       "        text-align: left;\n",
       "    }\n",
       "\n",
       "    .dataframe thead tr:last-of-type th {\n",
       "        text-align: right;\n",
       "    }\n",
       "</style>\n",
       "<table border=\"1\" class=\"dataframe\">\n",
       "  <thead>\n",
       "    <tr>\n",
       "      <th></th>\n",
       "      <th colspan=\"10\" halign=\"left\">total_time</th>\n",
       "      <th>...</th>\n",
       "      <th colspan=\"10\" halign=\"left\">total_sightings</th>\n",
       "    </tr>\n",
       "    <tr>\n",
       "      <th>year</th>\n",
       "      <th>1910.0</th>\n",
       "      <th>1920.0</th>\n",
       "      <th>1925.0</th>\n",
       "      <th>1929.0</th>\n",
       "      <th>1930.0</th>\n",
       "      <th>1931.0</th>\n",
       "      <th>1933.0</th>\n",
       "      <th>1934.0</th>\n",
       "      <th>1936.0</th>\n",
       "      <th>1937.0</th>\n",
       "      <th>...</th>\n",
       "      <th>2005.0</th>\n",
       "      <th>2006.0</th>\n",
       "      <th>2007.0</th>\n",
       "      <th>2008.0</th>\n",
       "      <th>2009.0</th>\n",
       "      <th>2010.0</th>\n",
       "      <th>2011.0</th>\n",
       "      <th>2012.0</th>\n",
       "      <th>2013.0</th>\n",
       "      <th>2014.0</th>\n",
       "    </tr>\n",
       "    <tr>\n",
       "      <th>state</th>\n",
       "      <th></th>\n",
       "      <th></th>\n",
       "      <th></th>\n",
       "      <th></th>\n",
       "      <th></th>\n",
       "      <th></th>\n",
       "      <th></th>\n",
       "      <th></th>\n",
       "      <th></th>\n",
       "      <th></th>\n",
       "      <th></th>\n",
       "      <th></th>\n",
       "      <th></th>\n",
       "      <th></th>\n",
       "      <th></th>\n",
       "      <th></th>\n",
       "      <th></th>\n",
       "      <th></th>\n",
       "      <th></th>\n",
       "      <th></th>\n",
       "      <th></th>\n",
       "    </tr>\n",
       "  </thead>\n",
       "  <tbody>\n",
       "    <tr>\n",
       "      <th>ab</th>\n",
       "      <td>0</td>\n",
       "      <td>0</td>\n",
       "      <td>0</td>\n",
       "      <td>0</td>\n",
       "      <td>0</td>\n",
       "      <td>0</td>\n",
       "      <td>0</td>\n",
       "      <td>0</td>\n",
       "      <td>0</td>\n",
       "      <td>0</td>\n",
       "      <td>...</td>\n",
       "      <td>30</td>\n",
       "      <td>16</td>\n",
       "      <td>18</td>\n",
       "      <td>14</td>\n",
       "      <td>14</td>\n",
       "      <td>19</td>\n",
       "      <td>15</td>\n",
       "      <td>17</td>\n",
       "      <td>20</td>\n",
       "      <td>8</td>\n",
       "    </tr>\n",
       "    <tr>\n",
       "      <th>ak</th>\n",
       "      <td>0</td>\n",
       "      <td>0</td>\n",
       "      <td>0</td>\n",
       "      <td>0</td>\n",
       "      <td>0</td>\n",
       "      <td>0</td>\n",
       "      <td>0</td>\n",
       "      <td>0</td>\n",
       "      <td>180</td>\n",
       "      <td>0</td>\n",
       "      <td>...</td>\n",
       "      <td>20</td>\n",
       "      <td>13</td>\n",
       "      <td>6</td>\n",
       "      <td>9</td>\n",
       "      <td>16</td>\n",
       "      <td>13</td>\n",
       "      <td>17</td>\n",
       "      <td>43</td>\n",
       "      <td>45</td>\n",
       "      <td>24</td>\n",
       "    </tr>\n",
       "    <tr>\n",
       "      <th>al</th>\n",
       "      <td>0</td>\n",
       "      <td>0</td>\n",
       "      <td>0</td>\n",
       "      <td>0</td>\n",
       "      <td>0</td>\n",
       "      <td>0</td>\n",
       "      <td>0</td>\n",
       "      <td>0</td>\n",
       "      <td>0</td>\n",
       "      <td>0</td>\n",
       "      <td>...</td>\n",
       "      <td>38</td>\n",
       "      <td>36</td>\n",
       "      <td>44</td>\n",
       "      <td>43</td>\n",
       "      <td>30</td>\n",
       "      <td>25</td>\n",
       "      <td>37</td>\n",
       "      <td>55</td>\n",
       "      <td>71</td>\n",
       "      <td>47</td>\n",
       "    </tr>\n",
       "    <tr>\n",
       "      <th>ar</th>\n",
       "      <td>0</td>\n",
       "      <td>0</td>\n",
       "      <td>0</td>\n",
       "      <td>0</td>\n",
       "      <td>0</td>\n",
       "      <td>0</td>\n",
       "      <td>0</td>\n",
       "      <td>0</td>\n",
       "      <td>0</td>\n",
       "      <td>0</td>\n",
       "      <td>...</td>\n",
       "      <td>32</td>\n",
       "      <td>29</td>\n",
       "      <td>30</td>\n",
       "      <td>36</td>\n",
       "      <td>25</td>\n",
       "      <td>39</td>\n",
       "      <td>41</td>\n",
       "      <td>52</td>\n",
       "      <td>50</td>\n",
       "      <td>9</td>\n",
       "    </tr>\n",
       "    <tr>\n",
       "      <th>az</th>\n",
       "      <td>0</td>\n",
       "      <td>0</td>\n",
       "      <td>0</td>\n",
       "      <td>0</td>\n",
       "      <td>0</td>\n",
       "      <td>0</td>\n",
       "      <td>0</td>\n",
       "      <td>0</td>\n",
       "      <td>0</td>\n",
       "      <td>0</td>\n",
       "      <td>...</td>\n",
       "      <td>181</td>\n",
       "      <td>127</td>\n",
       "      <td>123</td>\n",
       "      <td>164</td>\n",
       "      <td>150</td>\n",
       "      <td>109</td>\n",
       "      <td>150</td>\n",
       "      <td>194</td>\n",
       "      <td>215</td>\n",
       "      <td>109</td>\n",
       "    </tr>\n",
       "  </tbody>\n",
       "</table>\n",
       "<p>5 rows × 170 columns</p>\n",
       "</div>"
      ],
      "text/plain": [
       "      total_time                                                          \\\n",
       "year      1910.0 1920.0 1925.0 1929.0 1930.0 1931.0 1933.0 1934.0 1936.0   \n",
       "state                                                                      \n",
       "ab             0      0      0      0      0      0      0      0      0   \n",
       "ak             0      0      0      0      0      0      0      0    180   \n",
       "al             0      0      0      0      0      0      0      0      0   \n",
       "ar             0      0      0      0      0      0      0      0      0   \n",
       "az             0      0      0      0      0      0      0      0      0   \n",
       "\n",
       "              ...   total_sightings                                            \\\n",
       "year  1937.0  ...            2005.0 2006.0 2007.0 2008.0 2009.0 2010.0 2011.0   \n",
       "state         ...                                                               \n",
       "ab         0  ...                30     16     18     14     14     19     15   \n",
       "ak         0  ...                20     13      6      9     16     13     17   \n",
       "al         0  ...                38     36     44     43     30     25     37   \n",
       "ar         0  ...                32     29     30     36     25     39     41   \n",
       "az         0  ...               181    127    123    164    150    109    150   \n",
       "\n",
       "                            \n",
       "year  2012.0 2013.0 2014.0  \n",
       "state                       \n",
       "ab        17     20      8  \n",
       "ak        43     45     24  \n",
       "al        55     71     47  \n",
       "ar        52     50      9  \n",
       "az       194    215    109  \n",
       "\n",
       "[5 rows x 170 columns]"
      ]
     },
     "execution_count": 37,
     "metadata": {},
     "output_type": "execute_result"
    }
   ],
   "source": [
    "pivo3.head()"
   ]
  },
  {
   "cell_type": "code",
   "execution_count": 25,
   "metadata": {},
   "outputs": [
    {
     "data": {
      "application/vnd.jupyter.widget-view+json": {
       "model_id": "301ea34f95ee4178be0f79046a32a39a",
       "version_major": 2,
       "version_minor": 0
      },
      "text/html": [
       "<p>Failed to display Jupyter Widget of type <code>interactive</code>.</p>\n",
       "<p>\n",
       "  If you're reading this message in the Jupyter Notebook or JupyterLab Notebook, it may mean\n",
       "  that the widgets JavaScript is still loading. If this message persists, it\n",
       "  likely means that the widgets JavaScript library is either not installed or\n",
       "  not enabled. See the <a href=\"https://ipywidgets.readthedocs.io/en/stable/user_install.html\">Jupyter\n",
       "  Widgets Documentation</a> for setup instructions.\n",
       "</p>\n",
       "<p>\n",
       "  If you're reading this message in another frontend (for example, a static\n",
       "  rendering on GitHub or <a href=\"https://nbviewer.jupyter.org/\">NBViewer</a>),\n",
       "  it may mean that your frontend doesn't currently support widgets.\n",
       "</p>\n"
      ],
      "text/plain": [
       "interactive(children=(Dropdown(description='field', options=('total_time', 'total_sightings', 'norm_total_sightings', 'norm_total_time'), value='total_time'), Output()), _dom_classes=('widget-interact',))"
      ]
     },
     "metadata": {},
     "output_type": "display_data"
    }
   ],
   "source": [
    "@ipywidgets.interact(field = ['total_time','total_sightings','norm_total_sightings', 'norm_total_time'])\n",
    "def make_plot(field):\n",
    "    for fips in ufo_final3['fips']:\n",
    "        n = ufo_final3.loc[:, field]\n",
    "    def_tt = Tooltip(fields=['name', 'color'], labels=['State', field])\n",
    "   \n",
    "    map_styles = {'scales': {'projection': bqplot.AlbersUSA(),\n",
    "                            'color': bqplot.ColorScale(colors=[\"pink\",\"Purple\"])},\n",
    "                  'color': n.to_dict()}\n",
    "   \n",
    "    states_map = bqplot.Map(map_data=bqplot.topo_load('map_data/USStatesMap.json'), tooltip=def_tt,\n",
    "        **map_styles)\n",
    "    states_map.interactions = {'click': 'select', 'hover': 'tooltip'}\n",
    "    map_fig = bqplot.Figure(marks=[states_map], title='USA', fig_margin={'top':0, 'bottom':0, 'left':0, 'right':0})\n",
    "   \n",
    "    x_sc = bqplot.LinearScale()\n",
    "    y_sc = bqplot.LinearScale()\n",
    "    # line plot\n",
    "    if field in ['total_time','norm_total_time']:\n",
    "        def print_figure(self, target):\n",
    "            data1 = target\n",
    "            data2 = data1['data']\n",
    "            data = data2['id']\n",
    "            values = pivo3[ufo_vals[\"fips\"]==data]['total_time'].values[0]\n",
    "            lineplot.x = list(map(int, pivo3['total_time'].columns))\n",
    "            lineplot.y = values\n",
    "        states_map.on_element_click(print_figure)\n",
    "        lineplot = bqplot.Lines(x = [], y = [], scales = {'x': x_sc, 'y': y_sc})\n",
    "        ax_x = bqplot.Axis(scale = x_sc, label = 'Year')\n",
    "        ax_y = bqplot.Axis(scale = y_sc, orientation = \"vertical\", label = \"Total Time(In Seconds)\",\n",
    "                           label_offset = '20')\n",
    "        \n",
    "        line_figure = bqplot.Figure(marks=[lineplot], axes = [ax_x, ax_y])\n",
    "    else:\n",
    "        def print_figure(self, target):\n",
    "            data1 = target\n",
    "            data2 = data1['data']\n",
    "            data = data2['id']\n",
    "            values = pivo3[ufo_vals[\"fips\"]==data]['total_sightings'].values[0]\n",
    "            lineplot.x = list(map(int, pivo3['total_time'].columns))\n",
    "            lineplot.y = values\n",
    "        states_map.on_element_click(print_figure)\n",
    " \n",
    "        lineplot = bqplot.Lines(x = [], y = [], scales = {'x': x_sc, 'y': y_sc})\n",
    "\n",
    "        ax_x = bqplot.Axis(scale = x_sc, label = 'Year')\n",
    "        ax_y = bqplot.Axis(scale = y_sc, orientation = \"vertical\", label = \"Sightings\",\n",
    "                           label_offset = '20')\n",
    "        line_figure = bqplot.Figure(marks=[lineplot], axes = [ax_x, ax_y])\n",
    "\n",
    "   \n",
    "    display(map_fig, line_figure)"
   ]
  },
  {
   "cell_type": "code",
   "execution_count": null,
   "metadata": {
    "collapsed": true
   },
   "outputs": [],
   "source": []
  }
 ],
 "metadata": {
  "kernelspec": {
   "display_name": "Python 3",
   "language": "python",
   "name": "python3"
  },
  "language_info": {
   "codemirror_mode": {
    "name": "ipython",
    "version": 3
   },
   "file_extension": ".py",
   "mimetype": "text/x-python",
   "name": "python",
   "nbconvert_exporter": "python",
   "pygments_lexer": "ipython3",
   "version": "3.6.3"
  }
 },
 "nbformat": 4,
 "nbformat_minor": 2
}
